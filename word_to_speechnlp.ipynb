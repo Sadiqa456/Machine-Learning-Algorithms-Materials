{
  "nbformat": 4,
  "nbformat_minor": 0,
  "metadata": {
    "colab": {
      "name": "word to speechnlp.ipynb",
      "provenance": [],
      "authorship_tag": "ABX9TyNV3IRsU1fZwqiuVVOTalM8",
      "include_colab_link": true
    },
    "kernelspec": {
      "name": "python3",
      "display_name": "Python 3"
    },
    "language_info": {
      "name": "python"
    }
  },
  "cells": [
    {
      "cell_type": "markdown",
      "metadata": {
        "id": "view-in-github",
        "colab_type": "text"
      },
      "source": [
        "<a href=\"https://colab.research.google.com/github/Sadiqa456/Machine-Learning-Algorithms-Materials/blob/main/word_to_speechnlp.ipynb\" target=\"_parent\"><img src=\"https://colab.research.google.com/assets/colab-badge.svg\" alt=\"Open In Colab\"/></a>"
      ]
    },
    {
      "cell_type": "code",
      "execution_count": 1,
      "metadata": {
        "id": "6J7huKMZoJx9"
      },
      "outputs": [],
      "source": [
        "import nltk\n"
      ]
    },
    {
      "cell_type": "code",
      "source": [
        "download nltk()"
      ],
      "metadata": {
        "colab": {
          "base_uri": "https://localhost:8080/",
          "height": 131
        },
        "id": "Oib0BX5DobX4",
        "outputId": "a8c232cc-475b-4b07-832b-c629824474c7"
      },
      "execution_count": 2,
      "outputs": [
        {
          "output_type": "error",
          "ename": "SyntaxError",
          "evalue": "ignored",
          "traceback": [
            "\u001b[0;36m  File \u001b[0;32m\"<ipython-input-2-8c0e9fda4626>\"\u001b[0;36m, line \u001b[0;32m1\u001b[0m\n\u001b[0;31m    download nltk()\u001b[0m\n\u001b[0m                ^\u001b[0m\n\u001b[0;31mSyntaxError\u001b[0m\u001b[0;31m:\u001b[0m invalid syntax\n"
          ]
        }
      ]
    },
    {
      "cell_type": "code",
      "source": [
        "nltk.download('all')"
      ],
      "metadata": {
        "colab": {
          "base_uri": "https://localhost:8080/"
        },
        "id": "mnfp7DFiobaT",
        "outputId": "b8d7c9f6-81cc-41c8-c4bd-0d9639d91c09"
      },
      "execution_count": 3,
      "outputs": [
        {
          "output_type": "stream",
          "name": "stdout",
          "text": [
            "[nltk_data] Downloading collection 'all'\n",
            "[nltk_data]    | \n",
            "[nltk_data]    | Downloading package abc to /root/nltk_data...\n",
            "[nltk_data]    |   Unzipping corpora/abc.zip.\n",
            "[nltk_data]    | Downloading package alpino to /root/nltk_data...\n",
            "[nltk_data]    |   Unzipping corpora/alpino.zip.\n",
            "[nltk_data]    | Downloading package averaged_perceptron_tagger to\n",
            "[nltk_data]    |     /root/nltk_data...\n",
            "[nltk_data]    |   Unzipping taggers/averaged_perceptron_tagger.zip.\n",
            "[nltk_data]    | Downloading package averaged_perceptron_tagger_ru to\n",
            "[nltk_data]    |     /root/nltk_data...\n",
            "[nltk_data]    |   Unzipping\n",
            "[nltk_data]    |       taggers/averaged_perceptron_tagger_ru.zip.\n",
            "[nltk_data]    | Downloading package basque_grammars to\n",
            "[nltk_data]    |     /root/nltk_data...\n",
            "[nltk_data]    |   Unzipping grammars/basque_grammars.zip.\n",
            "[nltk_data]    | Downloading package biocreative_ppi to\n",
            "[nltk_data]    |     /root/nltk_data...\n",
            "[nltk_data]    |   Unzipping corpora/biocreative_ppi.zip.\n",
            "[nltk_data]    | Downloading package bllip_wsj_no_aux to\n",
            "[nltk_data]    |     /root/nltk_data...\n",
            "[nltk_data]    |   Unzipping models/bllip_wsj_no_aux.zip.\n",
            "[nltk_data]    | Downloading package book_grammars to\n",
            "[nltk_data]    |     /root/nltk_data...\n",
            "[nltk_data]    |   Unzipping grammars/book_grammars.zip.\n",
            "[nltk_data]    | Downloading package brown to /root/nltk_data...\n",
            "[nltk_data]    |   Unzipping corpora/brown.zip.\n",
            "[nltk_data]    | Downloading package brown_tei to /root/nltk_data...\n",
            "[nltk_data]    |   Unzipping corpora/brown_tei.zip.\n",
            "[nltk_data]    | Downloading package cess_cat to /root/nltk_data...\n",
            "[nltk_data]    |   Unzipping corpora/cess_cat.zip.\n",
            "[nltk_data]    | Downloading package cess_esp to /root/nltk_data...\n",
            "[nltk_data]    |   Unzipping corpora/cess_esp.zip.\n",
            "[nltk_data]    | Downloading package chat80 to /root/nltk_data...\n",
            "[nltk_data]    |   Unzipping corpora/chat80.zip.\n",
            "[nltk_data]    | Downloading package city_database to\n",
            "[nltk_data]    |     /root/nltk_data...\n",
            "[nltk_data]    |   Unzipping corpora/city_database.zip.\n",
            "[nltk_data]    | Downloading package cmudict to /root/nltk_data...\n",
            "[nltk_data]    |   Unzipping corpora/cmudict.zip.\n",
            "[nltk_data]    | Downloading package comparative_sentences to\n",
            "[nltk_data]    |     /root/nltk_data...\n",
            "[nltk_data]    |   Unzipping corpora/comparative_sentences.zip.\n",
            "[nltk_data]    | Downloading package comtrans to /root/nltk_data...\n",
            "[nltk_data]    | Downloading package conll2000 to /root/nltk_data...\n",
            "[nltk_data]    |   Unzipping corpora/conll2000.zip.\n",
            "[nltk_data]    | Downloading package conll2002 to /root/nltk_data...\n",
            "[nltk_data]    |   Unzipping corpora/conll2002.zip.\n",
            "[nltk_data]    | Downloading package conll2007 to /root/nltk_data...\n",
            "[nltk_data]    | Downloading package crubadan to /root/nltk_data...\n",
            "[nltk_data]    |   Unzipping corpora/crubadan.zip.\n",
            "[nltk_data]    | Downloading package dependency_treebank to\n",
            "[nltk_data]    |     /root/nltk_data...\n",
            "[nltk_data]    |   Unzipping corpora/dependency_treebank.zip.\n",
            "[nltk_data]    | Downloading package dolch to /root/nltk_data...\n",
            "[nltk_data]    |   Unzipping corpora/dolch.zip.\n",
            "[nltk_data]    | Downloading package europarl_raw to\n",
            "[nltk_data]    |     /root/nltk_data...\n",
            "[nltk_data]    |   Unzipping corpora/europarl_raw.zip.\n",
            "[nltk_data]    | Downloading package extended_omw to\n",
            "[nltk_data]    |     /root/nltk_data...\n",
            "[nltk_data]    |   Unzipping corpora/extended_omw.zip.\n",
            "[nltk_data]    | Downloading package floresta to /root/nltk_data...\n",
            "[nltk_data]    |   Unzipping corpora/floresta.zip.\n",
            "[nltk_data]    | Downloading package framenet_v15 to\n",
            "[nltk_data]    |     /root/nltk_data...\n",
            "[nltk_data]    |   Unzipping corpora/framenet_v15.zip.\n",
            "[nltk_data]    | Downloading package framenet_v17 to\n",
            "[nltk_data]    |     /root/nltk_data...\n",
            "[nltk_data]    |   Unzipping corpora/framenet_v17.zip.\n",
            "[nltk_data]    | Downloading package gazetteers to /root/nltk_data...\n",
            "[nltk_data]    |   Unzipping corpora/gazetteers.zip.\n",
            "[nltk_data]    | Downloading package genesis to /root/nltk_data...\n",
            "[nltk_data]    |   Unzipping corpora/genesis.zip.\n",
            "[nltk_data]    | Downloading package gutenberg to /root/nltk_data...\n",
            "[nltk_data]    |   Unzipping corpora/gutenberg.zip.\n",
            "[nltk_data]    | Downloading package ieer to /root/nltk_data...\n",
            "[nltk_data]    |   Unzipping corpora/ieer.zip.\n",
            "[nltk_data]    | Downloading package inaugural to /root/nltk_data...\n",
            "[nltk_data]    |   Unzipping corpora/inaugural.zip.\n",
            "[nltk_data]    | Downloading package indian to /root/nltk_data...\n",
            "[nltk_data]    |   Unzipping corpora/indian.zip.\n",
            "[nltk_data]    | Downloading package jeita to /root/nltk_data...\n",
            "[nltk_data]    | Downloading package kimmo to /root/nltk_data...\n",
            "[nltk_data]    |   Unzipping corpora/kimmo.zip.\n",
            "[nltk_data]    | Downloading package knbc to /root/nltk_data...\n",
            "[nltk_data]    | Downloading package large_grammars to\n",
            "[nltk_data]    |     /root/nltk_data...\n",
            "[nltk_data]    |   Unzipping grammars/large_grammars.zip.\n",
            "[nltk_data]    | Downloading package lin_thesaurus to\n",
            "[nltk_data]    |     /root/nltk_data...\n",
            "[nltk_data]    |   Unzipping corpora/lin_thesaurus.zip.\n",
            "[nltk_data]    | Downloading package mac_morpho to /root/nltk_data...\n",
            "[nltk_data]    |   Unzipping corpora/mac_morpho.zip.\n",
            "[nltk_data]    | Downloading package machado to /root/nltk_data...\n",
            "[nltk_data]    | Downloading package masc_tagged to /root/nltk_data...\n",
            "[nltk_data]    | Downloading package maxent_ne_chunker to\n",
            "[nltk_data]    |     /root/nltk_data...\n",
            "[nltk_data]    |   Unzipping chunkers/maxent_ne_chunker.zip.\n",
            "[nltk_data]    | Downloading package maxent_treebank_pos_tagger to\n",
            "[nltk_data]    |     /root/nltk_data...\n",
            "[nltk_data]    |   Unzipping taggers/maxent_treebank_pos_tagger.zip.\n",
            "[nltk_data]    | Downloading package moses_sample to\n",
            "[nltk_data]    |     /root/nltk_data...\n",
            "[nltk_data]    |   Unzipping models/moses_sample.zip.\n",
            "[nltk_data]    | Downloading package movie_reviews to\n",
            "[nltk_data]    |     /root/nltk_data...\n",
            "[nltk_data]    |   Unzipping corpora/movie_reviews.zip.\n",
            "[nltk_data]    | Downloading package mte_teip5 to /root/nltk_data...\n",
            "[nltk_data]    |   Unzipping corpora/mte_teip5.zip.\n",
            "[nltk_data]    | Downloading package mwa_ppdb to /root/nltk_data...\n",
            "[nltk_data]    |   Unzipping misc/mwa_ppdb.zip.\n",
            "[nltk_data]    | Downloading package names to /root/nltk_data...\n",
            "[nltk_data]    |   Unzipping corpora/names.zip.\n",
            "[nltk_data]    | Downloading package nombank.1.0 to /root/nltk_data...\n",
            "[nltk_data]    | Downloading package nonbreaking_prefixes to\n",
            "[nltk_data]    |     /root/nltk_data...\n",
            "[nltk_data]    |   Unzipping corpora/nonbreaking_prefixes.zip.\n",
            "[nltk_data]    | Downloading package nps_chat to /root/nltk_data...\n",
            "[nltk_data]    |   Unzipping corpora/nps_chat.zip.\n",
            "[nltk_data]    | Downloading package omw to /root/nltk_data...\n",
            "[nltk_data]    |   Unzipping corpora/omw.zip.\n",
            "[nltk_data]    | Downloading package omw-1.4 to /root/nltk_data...\n",
            "[nltk_data]    |   Unzipping corpora/omw-1.4.zip.\n",
            "[nltk_data]    | Downloading package opinion_lexicon to\n",
            "[nltk_data]    |     /root/nltk_data...\n",
            "[nltk_data]    |   Unzipping corpora/opinion_lexicon.zip.\n",
            "[nltk_data]    | Downloading package panlex_swadesh to\n",
            "[nltk_data]    |     /root/nltk_data...\n",
            "[nltk_data]    | Downloading package paradigms to /root/nltk_data...\n",
            "[nltk_data]    |   Unzipping corpora/paradigms.zip.\n",
            "[nltk_data]    | Downloading package pe08 to /root/nltk_data...\n",
            "[nltk_data]    |   Unzipping corpora/pe08.zip.\n",
            "[nltk_data]    | Downloading package perluniprops to\n",
            "[nltk_data]    |     /root/nltk_data...\n",
            "[nltk_data]    |   Unzipping misc/perluniprops.zip.\n",
            "[nltk_data]    | Downloading package pil to /root/nltk_data...\n",
            "[nltk_data]    |   Unzipping corpora/pil.zip.\n",
            "[nltk_data]    | Downloading package pl196x to /root/nltk_data...\n",
            "[nltk_data]    |   Unzipping corpora/pl196x.zip.\n",
            "[nltk_data]    | Downloading package porter_test to /root/nltk_data...\n",
            "[nltk_data]    |   Unzipping stemmers/porter_test.zip.\n",
            "[nltk_data]    | Downloading package ppattach to /root/nltk_data...\n",
            "[nltk_data]    |   Unzipping corpora/ppattach.zip.\n",
            "[nltk_data]    | Downloading package problem_reports to\n",
            "[nltk_data]    |     /root/nltk_data...\n",
            "[nltk_data]    |   Unzipping corpora/problem_reports.zip.\n",
            "[nltk_data]    | Downloading package product_reviews_1 to\n",
            "[nltk_data]    |     /root/nltk_data...\n",
            "[nltk_data]    |   Unzipping corpora/product_reviews_1.zip.\n",
            "[nltk_data]    | Downloading package product_reviews_2 to\n",
            "[nltk_data]    |     /root/nltk_data...\n",
            "[nltk_data]    |   Unzipping corpora/product_reviews_2.zip.\n",
            "[nltk_data]    | Downloading package propbank to /root/nltk_data...\n",
            "[nltk_data]    | Downloading package pros_cons to /root/nltk_data...\n",
            "[nltk_data]    |   Unzipping corpora/pros_cons.zip.\n",
            "[nltk_data]    | Downloading package ptb to /root/nltk_data...\n",
            "[nltk_data]    |   Unzipping corpora/ptb.zip.\n",
            "[nltk_data]    | Downloading package punkt to /root/nltk_data...\n",
            "[nltk_data]    |   Unzipping tokenizers/punkt.zip.\n",
            "[nltk_data]    | Downloading package qc to /root/nltk_data...\n",
            "[nltk_data]    |   Unzipping corpora/qc.zip.\n",
            "[nltk_data]    | Downloading package reuters to /root/nltk_data...\n",
            "[nltk_data]    | Downloading package rslp to /root/nltk_data...\n",
            "[nltk_data]    |   Unzipping stemmers/rslp.zip.\n",
            "[nltk_data]    | Downloading package rte to /root/nltk_data...\n",
            "[nltk_data]    |   Unzipping corpora/rte.zip.\n",
            "[nltk_data]    | Downloading package sample_grammars to\n",
            "[nltk_data]    |     /root/nltk_data...\n",
            "[nltk_data]    |   Unzipping grammars/sample_grammars.zip.\n",
            "[nltk_data]    | Downloading package semcor to /root/nltk_data...\n",
            "[nltk_data]    | Downloading package senseval to /root/nltk_data...\n",
            "[nltk_data]    |   Unzipping corpora/senseval.zip.\n",
            "[nltk_data]    | Downloading package sentence_polarity to\n",
            "[nltk_data]    |     /root/nltk_data...\n",
            "[nltk_data]    |   Unzipping corpora/sentence_polarity.zip.\n",
            "[nltk_data]    | Downloading package sentiwordnet to\n",
            "[nltk_data]    |     /root/nltk_data...\n",
            "[nltk_data]    |   Unzipping corpora/sentiwordnet.zip.\n",
            "[nltk_data]    | Downloading package shakespeare to /root/nltk_data...\n",
            "[nltk_data]    |   Unzipping corpora/shakespeare.zip.\n",
            "[nltk_data]    | Downloading package sinica_treebank to\n",
            "[nltk_data]    |     /root/nltk_data...\n",
            "[nltk_data]    |   Unzipping corpora/sinica_treebank.zip.\n",
            "[nltk_data]    | Downloading package smultron to /root/nltk_data...\n",
            "[nltk_data]    |   Unzipping corpora/smultron.zip.\n",
            "[nltk_data]    | Downloading package snowball_data to\n",
            "[nltk_data]    |     /root/nltk_data...\n",
            "[nltk_data]    | Downloading package spanish_grammars to\n",
            "[nltk_data]    |     /root/nltk_data...\n",
            "[nltk_data]    |   Unzipping grammars/spanish_grammars.zip.\n",
            "[nltk_data]    | Downloading package state_union to /root/nltk_data...\n",
            "[nltk_data]    |   Unzipping corpora/state_union.zip.\n",
            "[nltk_data]    | Downloading package stopwords to /root/nltk_data...\n",
            "[nltk_data]    |   Unzipping corpora/stopwords.zip.\n",
            "[nltk_data]    | Downloading package subjectivity to\n",
            "[nltk_data]    |     /root/nltk_data...\n",
            "[nltk_data]    |   Unzipping corpora/subjectivity.zip.\n",
            "[nltk_data]    | Downloading package swadesh to /root/nltk_data...\n",
            "[nltk_data]    |   Unzipping corpora/swadesh.zip.\n",
            "[nltk_data]    | Downloading package switchboard to /root/nltk_data...\n",
            "[nltk_data]    |   Unzipping corpora/switchboard.zip.\n",
            "[nltk_data]    | Downloading package tagsets to /root/nltk_data...\n",
            "[nltk_data]    |   Unzipping help/tagsets.zip.\n",
            "[nltk_data]    | Downloading package timit to /root/nltk_data...\n",
            "[nltk_data]    |   Unzipping corpora/timit.zip.\n",
            "[nltk_data]    | Downloading package toolbox to /root/nltk_data...\n",
            "[nltk_data]    |   Unzipping corpora/toolbox.zip.\n",
            "[nltk_data]    | Downloading package treebank to /root/nltk_data...\n",
            "[nltk_data]    |   Unzipping corpora/treebank.zip.\n",
            "[nltk_data]    | Downloading package twitter_samples to\n",
            "[nltk_data]    |     /root/nltk_data...\n",
            "[nltk_data]    |   Unzipping corpora/twitter_samples.zip.\n",
            "[nltk_data]    | Downloading package udhr to /root/nltk_data...\n",
            "[nltk_data]    |   Unzipping corpora/udhr.zip.\n",
            "[nltk_data]    | Downloading package udhr2 to /root/nltk_data...\n",
            "[nltk_data]    |   Unzipping corpora/udhr2.zip.\n",
            "[nltk_data]    | Downloading package unicode_samples to\n",
            "[nltk_data]    |     /root/nltk_data...\n",
            "[nltk_data]    |   Unzipping corpora/unicode_samples.zip.\n",
            "[nltk_data]    | Downloading package universal_tagset to\n",
            "[nltk_data]    |     /root/nltk_data...\n",
            "[nltk_data]    |   Unzipping taggers/universal_tagset.zip.\n",
            "[nltk_data]    | Downloading package universal_treebanks_v20 to\n",
            "[nltk_data]    |     /root/nltk_data...\n",
            "[nltk_data]    | Downloading package vader_lexicon to\n",
            "[nltk_data]    |     /root/nltk_data...\n",
            "[nltk_data]    | Downloading package verbnet to /root/nltk_data...\n",
            "[nltk_data]    |   Unzipping corpora/verbnet.zip.\n",
            "[nltk_data]    | Downloading package verbnet3 to /root/nltk_data...\n",
            "[nltk_data]    |   Unzipping corpora/verbnet3.zip.\n",
            "[nltk_data]    | Downloading package webtext to /root/nltk_data...\n",
            "[nltk_data]    |   Unzipping corpora/webtext.zip.\n",
            "[nltk_data]    | Downloading package wmt15_eval to /root/nltk_data...\n",
            "[nltk_data]    |   Unzipping models/wmt15_eval.zip.\n",
            "[nltk_data]    | Downloading package word2vec_sample to\n",
            "[nltk_data]    |     /root/nltk_data...\n",
            "[nltk_data]    |   Unzipping models/word2vec_sample.zip.\n",
            "[nltk_data]    | Downloading package wordnet to /root/nltk_data...\n",
            "[nltk_data]    |   Unzipping corpora/wordnet.zip.\n",
            "[nltk_data]    | Downloading package wordnet2021 to /root/nltk_data...\n",
            "[nltk_data]    |   Unzipping corpora/wordnet2021.zip.\n",
            "[nltk_data]    | Downloading package wordnet31 to /root/nltk_data...\n",
            "[nltk_data]    |   Unzipping corpora/wordnet31.zip.\n",
            "[nltk_data]    | Downloading package wordnet_ic to /root/nltk_data...\n",
            "[nltk_data]    |   Unzipping corpora/wordnet_ic.zip.\n",
            "[nltk_data]    | Downloading package words to /root/nltk_data...\n",
            "[nltk_data]    |   Unzipping corpora/words.zip.\n",
            "[nltk_data]    | Downloading package ycoe to /root/nltk_data...\n",
            "[nltk_data]    |   Unzipping corpora/ycoe.zip.\n",
            "[nltk_data]    | \n",
            "[nltk_data]  Done downloading collection all\n"
          ]
        },
        {
          "output_type": "execute_result",
          "data": {
            "text/plain": [
              "True"
            ]
          },
          "metadata": {},
          "execution_count": 3
        }
      ]
    },
    {
      "cell_type": "code",
      "source": [
        "!pip install gTTs"
      ],
      "metadata": {
        "colab": {
          "base_uri": "https://localhost:8080/"
        },
        "id": "KGOHyDV_o-lL",
        "outputId": "fea3e158-44ca-49d3-edf0-6706a6963695"
      },
      "execution_count": 4,
      "outputs": [
        {
          "output_type": "stream",
          "name": "stdout",
          "text": [
            "Collecting gTTs\n",
            "  Downloading gTTS-2.2.4-py3-none-any.whl (26 kB)\n",
            "Requirement already satisfied: requests in /usr/local/lib/python3.7/dist-packages (from gTTs) (2.23.0)\n",
            "Requirement already satisfied: click in /usr/local/lib/python3.7/dist-packages (from gTTs) (7.1.2)\n",
            "Requirement already satisfied: six in /usr/local/lib/python3.7/dist-packages (from gTTs) (1.15.0)\n",
            "Requirement already satisfied: chardet<4,>=3.0.2 in /usr/local/lib/python3.7/dist-packages (from requests->gTTs) (3.0.4)\n",
            "Requirement already satisfied: certifi>=2017.4.17 in /usr/local/lib/python3.7/dist-packages (from requests->gTTs) (2021.10.8)\n",
            "Requirement already satisfied: idna<3,>=2.5 in /usr/local/lib/python3.7/dist-packages (from requests->gTTs) (2.10)\n",
            "Requirement already satisfied: urllib3!=1.25.0,!=1.25.1,<1.26,>=1.21.1 in /usr/local/lib/python3.7/dist-packages (from requests->gTTs) (1.24.3)\n",
            "Installing collected packages: gTTs\n",
            "Successfully installed gTTs-2.2.4\n"
          ]
        }
      ]
    },
    {
      "cell_type": "code",
      "source": [
        "from gtts import gTTS"
      ],
      "metadata": {
        "id": "dHwsgtYRobdx"
      },
      "execution_count": 6,
      "outputs": []
    },
    {
      "cell_type": "code",
      "source": [
        "from IPython.display import Audio"
      ],
      "metadata": {
        "id": "P4mEVfXhwI0V"
      },
      "execution_count": 8,
      "outputs": []
    },
    {
      "cell_type": "code",
      "source": [
        "tts= gTTS('zarar is good')"
      ],
      "metadata": {
        "id": "zoGIGwMvweu1"
      },
      "execution_count": 20,
      "outputs": []
    },
    {
      "cell_type": "code",
      "source": [
        "tts.save('1.wav')"
      ],
      "metadata": {
        "id": "q7qIhJdqw3ts"
      },
      "execution_count": 23,
      "outputs": []
    },
    {
      "cell_type": "code",
      "source": [
        "sound_file= '1.wav'"
      ],
      "metadata": {
        "id": "wnvHfdE3xKrV"
      },
      "execution_count": 24,
      "outputs": []
    },
    {
      "cell_type": "code",
      "source": [
        "Audio(sound_file,autoplay=True)"
      ],
      "metadata": {
        "colab": {
          "base_uri": "https://localhost:8080/",
          "height": 75
        },
        "id": "KyyXOdW2xXC9",
        "outputId": "0471f02d-669d-4dbd-e51e-2cb6900c3eed"
      },
      "execution_count": 26,
      "outputs": [
        {
          "output_type": "execute_result",
          "data": {
            "text/plain": [
              "<IPython.lib.display.Audio object>"
            ],
            "text/html": [
              "\n",
              "                <audio controls=\"controls\" autoplay=\"autoplay\">\n",
              "                    <source src=\"data:audio/x-wav;base64,//NExAASUDX0AUYYAAAEIOTJkwcBgAAEEDnw+7xA6kEAQBB3lwQd9b5QEHFAQBCJwQBAEDmIAQd/lwQDH1g+CAIAgcKHKwfBAEAQBAEwfB8HwfBAEAQV8T0PAw6o6Uhh//NExAkU2yqQAYs4AP59H7mmL5/cx/0tqhpc/+fRrMi3/qf7IPUVH/6Wufs6GFURmI//q7Ozzz7ybMKiynEEPZP//23HGPOIJ4oMCEA84ionFzDgTgLF6nZXACDkc05m//NExAgUkx6kAcc4AE//////////////6er/pamq1dWW+pro/c5XPRjGKvHx06cKx8cMGo+NCQrHBENRRwRCIXcTBIYPDYUjcSxsICBBRwwQqXHC5IUkqjC00HRzqn////NExAgTox6sAFBOvP//l////+f/////W73e2qolejWc0+hFkVGYqUKH7qz3MNMFTEjCqoWHxa44MEyQ6wluNwcC0RReWJg8sBcUkRSWFYRKTHDKLm0CEv2///////////NExAwUmxqwADhQvf+6l//////+E+7/inapfePvT3xSty/MLPdBTLQiLksQDLdaHDZLIdChxl0JxxUDVEEePGXQfiFiMHI7o8YUcPCwRFFA1JTVrv8c4StgY1wA7gab//NExAwUqkq4AHiGuTRMw4/6CPO9VP5OQl1Of/////x9jK//ly+2+XvLzFEZg0PMsFJWvrqCOiUZmUuOWTQCKgom2Rwob+hoL6UUN5xMN6oFNkiiz7y0YQINMoS8LvnG//NExAwViSagANYecBxtwUplDMBZrrV771M/y78FzWfMWZt9rejAWbbayXMNrShgKrVJZ/ntjr+HGe+7YsVxqO63jtTjFDS9T3jEichfJQmtwiAQNHv01bOrsFFREZ1N//NExAgR0OqgAN4wcLgKKmTwAcGVY5Kj6qDqmNsetbw+UqwXt+xlPP/4rfIcqeChMMDczgFSmjyymWWc5Uh+Tf2Uv6sFTcS53/ViOlXWFeIA02GiineJI4yWBDDl+r02//NExBMR+MqcAN4wcG79eZxqjWP7uSKaxTPAZSTCypIIEE3ns14CBqprmWk3LWuvqwXhYqu6T///vp9lf/////4qp5NlSlAIfKS4VAqAHM5nLArooYKMXSCJi0+ARPT5//NExB4SkMqQANZecO5IHVv/WphFWIAmm24CQsf00BxfBuRPhDzgkt326tv///1fqf/////xhYwAKpDZwmxALAdiIp7rlAI4embqSikRhgeHJD9CFhNQylyj4MRRSm4g//NExCYSgL6QANbyTITTQjM4xUFeqmiXcV/rFuTcYHwjL+0+dn////f//////9Snku8qR8YDA8CzherqjoEw/wiIw/nkiElxd+GQsXWvA+npC1QER9LLkuKPggCBL1RC//NExC8SCMKcANawTHL0s2qyqzJJZv+Wz////////////lAwBAjVws5WWBG9JvtBEZR5GLYO4Wqsy8QxFOOVxdmYcxzrFd0QI80hjdl/kOQ1MLh4xTCykIiZmTw2U2/j//NExDkSMM6gANYecH2r48v///+/+n/////p0mXH93FZwIFK5nsBACdAbJspQxQ2wmTZ0oXTJ1nmvTEAmKeiNA2aywEmYQZNaQCyFxOmt7Khmv6N8BXPvmdy1uG55aAD//NExEMRuPKsAM5ecP//5RDD/3KAdLLKuUSGYGcWc6AdABWb3Q/Lhgk1rgwyblUvKrBdOB6RsZhAhh4bniVQGR/hrSBvZpPf8W/2nX36I7HDWP/+TdG1q7/b1AViNF/8//NExE8RWQasAM5WcFuQNWv/uoaaUf2oiSmGbIgaYGKslbdi8JVUnhEKz6mAHgGIJ0ZLlp/dmusUmc/tn/r8zOZRcVRkFY9//diA2JZxytCIsWnk+VabMbEPoX5DMtdE//NExFwQUQqwAMYYcVBzwKaBK6dohhzIC37kLbRVA/0Lnxl60/eaPou/8QoET/NZNfFmZ13Fx3p/Gj1H/Z0f/////qXH96oU/AGWtn3TdzWSgT826EApsoHUM5tSZkKL//NExG0UIRKoAM5ecOcwz5WpxaRgmAqeUaliCehwP/vsKhQvX8J8p3PH7ehk2vBZaEDp7/+lRk5///////oViF/nbzhBK9cVjUrkxqyBEMeekVmg4xJUb+sFv1L6HAKm//NExG8TUP6oAMZecG9t1rdMAC6we7sseEQEIvyLD9StXkD//KyYExn/aVkUuy5vn1ef/83hfdpxYRN/////peLiqamers0tk6Qh+5cpFHRWKlhbrPEoom+c4u/2q1Vo//NExHQVwQacANawcGOgFxbpdMInGXQmNHvwDMAiZ4mmxlVSuxEU5O0816+Kafd///7v9H/////0R6qm/eplFcHp3ltDgLUA3m+wdgRCNyjw1C2tKHAbm4sVpH/XO4FH//NExHASiOqkAMaecEz9vxFxyDeJsLmSsxzEZmmMxFwMtwcthb///9OU3/2tgBgt5TbiAM6aNLqtYQKTVbE8kaZ+gmi1rcwlRWm6TFh7IGDXaswOFbo58plLI2tM2gGg//NExHgQOM6sAMYecIMhEu6OAP//////////+6jK/9cYYTbppE/5g0YOp43Q8/ALcWNYYALkYs0Mv5blbuGxk7ExRuNtQwZQHKa+l+gDYAxKNu+8bOlhZnOnGjtqw/so//NExIoRwM6oAM4wcCVZyqeYQYPUZH66ysRnP4mTZytHhg0Wwhh3ccaR/4Yh63K5cnTpyrC3mqaSuUJJx+uBB0shLEcR1qZUzvE5MCYE///k6t8zUUAg4TcY2bTKxOqu//NExJYP2M6oAMPwcfCsp6oMWqw25Ehzfd7pbhqGL+7tqW/gwuKSxxkLAkJhGOAaCAcC5IMMqxaMoSJUlXWXLsI+xbf/0kUf9dXP9khRQlbpCEkOxhpnIJrOekRaisrf//NExKkR0OasAM4ecJs+8cSt8mIze/CK4/q303fdxtcqmh6uaHMKt67i7rwLnsW9MHLnvbOi7y/+iRc8mr2dYYkJms2xhXEaVpmxHgMC8yImxOGrJCkUWlZsgZ6smjbx//NExLQSiQqsAMZScAb8V8iasFYIk1ArXiq8NG9x8fksPQl7m0TV1TxYoV//6038agVqVio2jhwKRMTQ4GiEj9uSV+dIBnQazUqilb5dHlCIdL+vr//Qzs7/69vXIx0q//NExLwRaRaoAM6YcJW7f+RiEZqEQhGohDuQouhznVueSND5iIR0ZRM4mHxeEwO87spTiQ5xBnFIfD4fH0KHt6SNATspk1wrp4v9v//P/+YaIpLAy//8W8p0mZmZ2f3J//NExMkRKSqgAMzQcLfs0mbWmen/3bTfJpF/df7v67zaznvehWoTPyqgijshavaWOW9IvltaWlEZXLL1I1J8JJDUVJiayGsIZsyPorPh4Ekol8ehNMS8arC0HqMicqoC//NExNcYawqcAMlKuDT1//////L+f//8v///+v//Sqpc/MMepyIQlHQ1Ee5h6SxqMk1DiaEUNdVGjDYs5hQ8YHxU43MKjU8dGUYIBLFAlkCg2ik1egf//////3MfZ0Vc//NExMgc0xqcAHhYvN/+yf/6f///bpsqoqnMrH1QkTylILkFyOhC6GcqjjulnUjjxcdFxoHAQGKPEAiFGAodFRUguzsOCIK6BEOCwTUBYRJzP76t///8PCnExQ/kLxf///NExKcSIxqwAAhOvZn///y70N/qXmcsxlLM7GNQzzKwkZSsUqGf6lLzGKhnEWM4CuwkHlYyB5xIbwo18w0NfgEQIQKas8wXUqvAqHDYRSNWXQ7+p9SdeVlAosMlJ1wS//NExLESmxa0AChKuSplAVFRxJmUe9mS/feZ9vqbI88kJ/InVBQKrcAiLpoKP6/0KhDOLeGAHCQmG56Pxekv2c6mHNfz+91+vwxTPRAiKACKD4WXDQVpPqdzb7ynUVDG//NExLkRAtKcAFBKuXmsdHUTdrG9u37F/07rduhGRGV1RSRkayUVbSO5yV7BEL26fuJuSBoHOGCHKcKRkbDgKAcwMAnYNkmk9iVMS6S6abgrIhBgBLC45WFuHgMtNSDP//NExMgRSLI0ANHMTC4SxIjSTjM3LpsNSBhU1VAydG6LmpOnrqayDIXs2YmBBSSc1ZpkdPGqqH/TNa2R+93Z6//oMgpkG61MkmZTpWWmJodPfspFCyJdRY9GsLQHybDa//NExNUQaJ4kAVoYADLAQyFiSGgPQXB1aJNTUOP9wHmX/+xHZgRDEQdMgmAABzlCl5cQxpMLOTHgBAaBrv7qhR8wgi7mxVW7+DWg6vC6B0zTL0oZ2HxTENDXUjyjwgVb//NExOYisyagAY9oAEtjh8Heq9YO1V37Exz5UxM0fhxIcpIUje8LIKw/J3GQrk7j0KIeRLAuAIBeFkJ1q//9O1FPoOjwTCSz7Ef////pP1LHHUGggRO/Hh1k6cikIhLH//NExK4QUQakAc8wAFTKQcTYLkUjPax0RO2m4he4KGoXHw3EvQiK2ClGRphTryPmCa98OmpRiCEFgaC5QBgIgvtYmpq/////7m6NoXAplx5n2qrX/VC78e8GdIYUtSFm//NExL8W6Y6kANPUlKINzcJz3AyrVfOYn7cMB1+pTH3yegLajjMJol41nK61+B/8mVsNPoYaEblCEAGAJTKRXrf///zUzSlUSUWgx72+2Wr+7rAoR7t4K3FLM7XjwxoP//NExLYVYYqsANPQlDxmmagaoaZcEl0hmxvVIjKJLJwJ2LmsdGXNKkivyvkPPJlniqXYjPDPMKG83/TzuxLY8ZtVX/9NVc+/dJja+6MhGm5YJvgPUNXsJ4AqusvzrcfZ//NExLMT4ZqsAMPQlDiExd7T7j6HQMVO1Pw6Y31I+tghX0MaQuqCRiBwOgMPD4fdtv//+ca6fSrXwmRKQZGADQPqGqxH9fstdBXBfKWyt24hR5yuPS6xUoo1lpw6JTIh//NExLYSGZ6sAMyUlIcAeHg0RqXH6R9vz29b8796lGtbTVUOXArf+xgoCRHP9qrr9wj6g7m1nQAhA4T7qrkRsLecIt3afDPOVzNLutS1ZrFSyQsBo2GweVc9lrZwl5zu//NExMARCZK0AMPKlepxurlK2m5oGgWJm/66GESwhqXk0Ygy28I0yi8zM2jUjBpjqgEX9EExGCy2H3t7KIrKr8QhmWyyrybbkJCPCkqmBIBhMRuPm4bKpTlFRKda+2YP//NExM4RwSK4AH4YcFdJtaERb/ZeLAZf+xv////9Fe8lYfKezBE3beQZqJG9EAHjWu6kTm3K63cc4PwypH5/OBstOzKc+mhi7aMCNh7JVmFtZY6jEPfBa7Ef+57LYCHO//NExNoRcR64AMYScE3o/bNP/ijVe4wTPuf///oSmLCqIKkltASyQ/IRBClHFBBAL4xqu1mixX28upLa/b9cylF/dy5Y6Wn5aUnUiSBlKxnwm2VOno17Ya2IdZ0nOpNS//NExOcUmSKoAMYScG5X91X89+8jaR///pqpgmdS0OZOAhEAYmacDqATAazqHLkxRs7gjRMgde5a1KVzmH6T/S1n61+NfhdIhXD0HnVHt15W9Zhr0tHssSW0Pqv///3V//NExOcUeR6gAMaYcHXTN21H2If/9f//9QxpERUcKR8ZEGpCCoAyrA5KB6DEmg4IGAgYPM0dIhMXZzLeUEPd539Z8o83RtZWqoDAYRY1FqtDW8pWVmKIh1FSXentKrEv//NExOgUATKYAM6WcFMhhaZPCwNPVR9yvWoAPmEGyRiIgJLVqgwnLa9zXbl2+YHG+Do2VZ4GqPAZYkAwQU793BsWHEBZQBlRf/gYUCFp4GEBAYQIFvH0fwxQDfAtMACF//NExOsVKbKIAMsQlIXPix0a2/4N2DRFxg2cEeEQGXbUlUl/4YjDpyPHeXC0PwpQo1///+HxjTHYTZ+YGhByBkTJiv1////yobkXPoC4y+bk4gaEQJgnKhYlUPGL+I8B//NExOkT2aJsAVooAAYyk14z19AzVwWTBjzRPWpPjqV16/OMbzilmepfbwm09d79t9uVWYDnJaL4WzvrX/LCdahi4gx2pNxo3sxY///6VSyfbyX7lHHl8mDdUDa+fuon//NExOwkEypYAZmgAIUF7X+3WFW1wIkS31fFn07lNG3rOL1xmudZ///+abxal6amf1BmDSVqVBr1VSqLkhzNlhe4hafRkvuPmtYeceFCwwvUjdZq7ke78qmNyUf27Ukz//NExK4hyqKQAY94ACzt7vuP6JEtlHTwVRJJbPvZv6/7Y8v/UvVNXn65rvhxJLNZtlSjKACi9xYDXrKCpmy+EB786IhY9GMU2MKQE4kMoYcKTLm1AUAmDAQ7CuNeYZv1//NExHkYOfIQAc8wANj6sb+/c4x1v1jVWPpalP42X1YzbH1VVY1XDCphvIT/JFH5Yy9Yf4v4T/+Kb4M/8sXy66y7FlgGElHwWUWZFxuaTKFBWWUEDBgqjyy2X5ZbP5Zb//NExGsTwb34ABjGlT//RURU/+ioqov7qioUwMEGBoqKgMEgtlQkLCwsLirFs//+oVxUUkxBTUUzLjEwMKqqqqqqqqqqqqqqqqqqqqqqqqqqqqqqqqqqqqqqTEFNRTMu//NExG8QsdlQADDEmDEwMKqqqqqqqqqqqqqqqqqqqqqqqqqqqqqqqqqqqqqqqqqqqqqqqqqqqqqqqqqqqqqqqqqqqqqqqqqqqqqqqqqqqqqqqqqqqqqqqqqqysrKKGEC//NExH8AAANIAAAAAMjIyYYYWjysRn9ZWEjixDo6eZo8sUUMIMjI1YYYWjpYXnLFYSOLEGRkajjiHSxTIvisooYQLR0fyJ0srCRxZGRkyjjiHR5T8rKyihhAsjIyYYYW//NExKwAAANIAAAAAI8rEZ/WVhI4sQ6OnmaPLFHEJQrJQkrVVVEDxKqqqUJK00VRAwMVVVRApWmmmIGDll1UQMSppphgA5ZZZEDEqq6YYGBrLLJQolVVVDAxKqiyUJK1//NExKwAAANIAAAAAFVUQPEqqqpQkrTRVEDAxVVVVQ1T7LIf/sqyzlgOof9zOz9lDAql7LI5f5qsvxWBg0f5ZaX/qzWXsoKOX8yKX9WCg485Zah/5M1n1lBAnT7LIf/s//NExP8aqx2IABjGvKss5YDqH/czs/ZQwKJeqIqqTEFNRTMuMTAwqqqqqqqqqqqqqqqqqqqqqqqqqqqqqqqqqqqqqqqqqqqqqqqqqqqqqqqqqqqqqqqqqqqqqqqqqqqq//NExOcUoAXUAAjGAaqqqqqqqqqqqqqqqqqqqqqqqqqqqqqqqqqqqqqqqqqqqqqqqqqqqqqqqqqqqqqqqqqqqqqqqqqqqqqqqqqqqqqqqqqqqqqqqqqqqqqqqqqqqqqq//NExOcUSvmAABjGuaqqqqqqqqqqqqqqqqqqqqqqqqqqqqqqqqqqqqqqqqqqqqqqqqqqqqqqqqqqqqqqqqqqqqqqqqqqqqqqqqqqqqqqqqqqqqqqqqqqqqqqqqqqqqqq\" type=\"audio/x-wav\" />\n",
              "                    Your browser does not support the audio element.\n",
              "                </audio>\n",
              "              "
            ]
          },
          "metadata": {},
          "execution_count": 26
        }
      ]
    }
  ]
}